{
  "nbformat": 4,
  "nbformat_minor": 0,
  "metadata": {
    "colab": {
      "provenance": []
    },
    "kernelspec": {
      "name": "python3",
      "display_name": "Python 3"
    },
    "language_info": {
      "name": "python"
    }
  },
  "cells": [
    {
      "cell_type": "markdown",
      "source": [
        "TASK-1"
      ],
      "metadata": {
        "id": "pESy5zxikTGL"
      }
    },
    {
      "cell_type": "code",
      "execution_count": null,
      "metadata": {
        "colab": {
          "base_uri": "https://localhost:8080/"
        },
        "id": "NF2S6Nzyjv7K",
        "outputId": "e1abc56a-1888-4948-a454-85ce2fc79a5b"
      },
      "outputs": [
        {
          "output_type": "stream",
          "name": "stdout",
          "text": [
            "   Feature1  Feature2  Feature3  Feature4\n",
            "0  0.496714 -0.138264  0.647689  1.523030\n",
            "1 -0.234153 -0.234137  1.579213  0.767435\n",
            "2 -0.469474  0.542560 -0.463418 -0.465730\n",
            "3  0.241962 -1.913280 -1.724918 -0.562288\n"
          ]
        }
      ],
      "source": [
        "import pandas as pd\n",
        "import numpy as np\n",
        "\n",
        "# Set the random seed for reproducibility\n",
        "np.random.seed(42)\n",
        "\n",
        "# Create a 4x4 array of random values\n",
        "data = np.random.randn(4, 4)\n",
        "\n",
        "# Create the DataFrame\n",
        "df = pd.DataFrame(data, columns=['Feature1', 'Feature2', 'Feature3', 'Feature4'])\n",
        "\n",
        "# Print the DataFrame\n",
        "print(df)\n"
      ]
    },
    {
      "cell_type": "markdown",
      "source": [
        "TASK-2"
      ],
      "metadata": {
        "id": "2o1A36rjkbsB"
      }
    },
    {
      "cell_type": "code",
      "source": [
        "import pandas as pd\n",
        "import numpy as np\n",
        "\n",
        "# Set the random seed for reproducibility\n",
        "np.random.seed(42)\n",
        "\n",
        "# Create a 4x4 array of random values\n",
        "data = np.random.randn(4, 4)\n",
        "\n",
        "# Create the DataFrame\n",
        "df = pd.DataFrame(data, columns=['Feature1', 'Feature2', 'Feature3', 'Feature4'])\n",
        "\n",
        "# Rename the column names\n",
        "df = df.rename(columns={'Feature1': 'Random value 1',\n",
        "                        'Feature2': 'Random value 2',\n",
        "                        'Feature3': 'Random value 3',\n",
        "                        'Feature4': 'Random value 4'})\n",
        "\n",
        "# Print the DataFrame\n",
        "print(df)\n"
      ],
      "metadata": {
        "colab": {
          "base_uri": "https://localhost:8080/"
        },
        "id": "G0cpmSvzkba1",
        "outputId": "b3c677b4-5541-4e8c-9026-020757abad62"
      },
      "execution_count": null,
      "outputs": [
        {
          "output_type": "stream",
          "name": "stdout",
          "text": [
            "   Random value 1  Random value 2  Random value 3  Random value 4\n",
            "0        0.496714       -0.138264        0.647689        1.523030\n",
            "1       -0.234153       -0.234137        1.579213        0.767435\n",
            "2       -0.469474        0.542560       -0.463418       -0.465730\n",
            "3        0.241962       -1.913280       -1.724918       -0.562288\n"
          ]
        }
      ]
    },
    {
      "cell_type": "markdown",
      "source": [
        "TASK-3"
      ],
      "metadata": {
        "id": "m17caeUQk9G4"
      }
    },
    {
      "cell_type": "code",
      "source": [
        "print(df.describe())"
      ],
      "metadata": {
        "colab": {
          "base_uri": "https://localhost:8080/"
        },
        "id": "pjms4xGXk-pE",
        "outputId": "2be2ef6c-83cb-4589-a9ea-a15e330c6bb9"
      },
      "execution_count": null,
      "outputs": [
        {
          "output_type": "stream",
          "name": "stdout",
          "text": [
            "       Random value 1  Random value 2  Random value 3  Random value 4\n",
            "count        4.000000        4.000000        4.000000        4.000000\n",
            "mean         0.008762       -0.435780        0.009641        0.315612\n",
            "std          0.439772        1.043924        1.426317        1.007175\n",
            "min         -0.469474       -1.913280       -1.724918       -0.562288\n",
            "25%         -0.292984       -0.653923       -0.778793       -0.489869\n",
            "50%          0.003904       -0.186201        0.092135        0.150852\n",
            "75%          0.305650        0.031942        0.880570        0.956334\n",
            "max          0.496714        0.542560        1.579213        1.523030\n"
          ]
        }
      ]
    },
    {
      "cell_type": "markdown",
      "source": [
        "TASK-4"
      ],
      "metadata": {
        "id": "36AwgjzTlIjq"
      }
    },
    {
      "cell_type": "code",
      "source": [
        "df.isnull().sum()"
      ],
      "metadata": {
        "colab": {
          "base_uri": "https://localhost:8080/"
        },
        "id": "QNY5-aPOlKOK",
        "outputId": "6d8bd591-cbee-452f-ef37-a55763c2acc3"
      },
      "execution_count": null,
      "outputs": [
        {
          "output_type": "execute_result",
          "data": {
            "text/plain": [
              "Random value 1    0\n",
              "Random value 2    0\n",
              "Random value 3    0\n",
              "Random value 4    0\n",
              "dtype: int64"
            ]
          },
          "metadata": {},
          "execution_count": 4
        }
      ]
    },
    {
      "cell_type": "markdown",
      "source": [
        "TASK-5"
      ],
      "metadata": {
        "id": "IjGAFqLVlecc"
      }
    },
    {
      "cell_type": "code",
      "source": [
        "# Display columns using location method\n",
        "columns_location = df.loc[:, ['Random value 2', 'Random value 3']]\n",
        "print(\"Columns using location method:\")\n",
        "print(columns_location)\n",
        "\n",
        "# Display columns using index location method\n",
        "columns_index_location = df.iloc[:, [1, 2]]\n",
        "print(\"\\nColumns using index location method:\")\n",
        "print(columns_index_location)"
      ],
      "metadata": {
        "colab": {
          "base_uri": "https://localhost:8080/"
        },
        "id": "gs4N70z1leJW",
        "outputId": "e98785ae-bb98-4c16-8d10-6cb04ccf43d8"
      },
      "execution_count": null,
      "outputs": [
        {
          "output_type": "stream",
          "name": "stdout",
          "text": [
            "Columns using location method:\n",
            "   Random value 2  Random value 3\n",
            "0       -0.138264        0.647689\n",
            "1       -0.234137        1.579213\n",
            "2        0.542560       -0.463418\n",
            "3       -1.913280       -1.724918\n",
            "\n",
            "Columns using index location method:\n",
            "   Random value 2  Random value 3\n",
            "0       -0.138264        0.647689\n",
            "1       -0.234137        1.579213\n",
            "2        0.542560       -0.463418\n",
            "3       -1.913280       -1.724918\n"
          ]
        }
      ]
    }
  ]
}