{
  "nbformat": 4,
  "nbformat_minor": 0,
  "metadata": {
    "colab": {
      "provenance": [],
      "gpuType": "T4",
      "authorship_tag": "ABX9TyMTpdnVpbiNukinGbC36ipT",
      "include_colab_link": true
    },
    "kernelspec": {
      "name": "python3",
      "display_name": "Python 3"
    },
    "language_info": {
      "name": "python"
    },
    "accelerator": "GPU"
  },
  "cells": [
    {
      "cell_type": "markdown",
      "metadata": {
        "id": "view-in-github",
        "colab_type": "text"
      },
      "source": [
        "<a href=\"https://colab.research.google.com/github/AdvaitDeochakke/SBI_Sentiment_Analysis/blob/main/model_training_senti.ipynb\" target=\"_parent\"><img src=\"https://colab.research.google.com/assets/colab-badge.svg\" alt=\"Open In Colab\"/></a>"
      ]
    },
    {
      "cell_type": "code",
      "execution_count": 1,
      "metadata": {
        "colab": {
          "base_uri": "https://localhost:8080/",
          "height": 0
        },
        "id": "paLvfvT4bpkr",
        "outputId": "7ac4cd86-8353-46df-ff4e-521164308468"
      },
      "outputs": [
        {
          "output_type": "stream",
          "name": "stdout",
          "text": [
            "Cloning into 'SBI_Sentiment_Analysis'...\n",
            "remote: Enumerating objects: 39, done.\u001b[K\n",
            "remote: Total 39 (delta 0), reused 0 (delta 0), pack-reused 39\u001b[K\n",
            "Unpacking objects: 100% (39/39), 104.68 MiB | 10.09 MiB/s, done.\n"
          ]
        }
      ],
      "source": [
        "!git clone https://github.com/AdvaitDeochakke/SBI_Sentiment_Analysis"
      ]
    },
    {
      "cell_type": "code",
      "source": [
        "import tensorflow as tf\n",
        "\n",
        "gpus = tf.config.list_physical_devices('GPU')\n",
        "if gpus:\n",
        "    # GPU/CUDA is available\n",
        "    print(\"GPU is available\")\n",
        "    # You can also print the details of the available GPUs\n",
        "    for gpu in gpus:\n",
        "        print(\"GPU Name:\", gpu.name)\n",
        "else:\n",
        "    # No GPU/CUDA available\n",
        "    print(\"GPU is not available\")"
      ],
      "metadata": {
        "colab": {
          "base_uri": "https://localhost:8080/",
          "height": 0
        },
        "id": "UmTKkEIVb2a0",
        "outputId": "875253e6-cff7-4604-a0da-ed3f37f2e67d"
      },
      "execution_count": 2,
      "outputs": [
        {
          "output_type": "stream",
          "name": "stdout",
          "text": [
            "GPU is available\n",
            "GPU Name: /physical_device:GPU:0\n"
          ]
        }
      ]
    },
    {
      "cell_type": "code",
      "source": [
        "import logging\n",
        "logging.basicConfig(format='%(asctime)s : %(levelname)s : %(message)s', level=logging.INFO)"
      ],
      "metadata": {
        "id": "aIKOCXA0cQte"
      },
      "execution_count": 3,
      "outputs": []
    },
    {
      "cell_type": "code",
      "source": [
        "import pandas as pd\n",
        "df = pd.read_csv('SBI_Sentiment_Analysis/preprocessed_dataset.csv')\n",
        "df.target.value_counts()"
      ],
      "metadata": {
        "colab": {
          "base_uri": "https://localhost:8080/",
          "height": 0
        },
        "id": "cGll-0-YcSPI",
        "outputId": "c9a3a87c-3b72-4195-98e9-7e010e940de5"
      },
      "execution_count": 5,
      "outputs": [
        {
          "output_type": "execute_result",
          "data": {
            "text/plain": [
              "Negative    748869\n",
              "Positive    734073\n",
              "Name: target, dtype: int64"
            ]
          },
          "metadata": {},
          "execution_count": 5
        }
      ]
    },
    {
      "cell_type": "code",
      "source": [
        "df.head()"
      ],
      "metadata": {
        "colab": {
          "base_uri": "https://localhost:8080/",
          "height": 206
        },
        "id": "77KuOK6bcd9E",
        "outputId": "7af9e93d-a9b5-4aa5-c11d-4c796e38b840"
      },
      "execution_count": 6,
      "outputs": [
        {
          "output_type": "execute_result",
          "data": {
            "text/plain": [
              "     target                                              Clean\n",
              "0  Negative  upset cant updat facebook text might cri resul...\n",
              "1  Negative    dive mani time ball manag save 50 rest go bound\n",
              "2  Negative                    whole bodi feel itchi like fire\n",
              "3  Negative                              behav im mad cant see\n",
              "4  Negative                                         whole crew"
            ],
            "text/html": [
              "\n",
              "  <div id=\"df-a7c00ede-61fb-4e17-97fd-a5b6e125a41a\">\n",
              "    <div class=\"colab-df-container\">\n",
              "      <div>\n",
              "<style scoped>\n",
              "    .dataframe tbody tr th:only-of-type {\n",
              "        vertical-align: middle;\n",
              "    }\n",
              "\n",
              "    .dataframe tbody tr th {\n",
              "        vertical-align: top;\n",
              "    }\n",
              "\n",
              "    .dataframe thead th {\n",
              "        text-align: right;\n",
              "    }\n",
              "</style>\n",
              "<table border=\"1\" class=\"dataframe\">\n",
              "  <thead>\n",
              "    <tr style=\"text-align: right;\">\n",
              "      <th></th>\n",
              "      <th>target</th>\n",
              "      <th>Clean</th>\n",
              "    </tr>\n",
              "  </thead>\n",
              "  <tbody>\n",
              "    <tr>\n",
              "      <th>0</th>\n",
              "      <td>Negative</td>\n",
              "      <td>upset cant updat facebook text might cri resul...</td>\n",
              "    </tr>\n",
              "    <tr>\n",
              "      <th>1</th>\n",
              "      <td>Negative</td>\n",
              "      <td>dive mani time ball manag save 50 rest go bound</td>\n",
              "    </tr>\n",
              "    <tr>\n",
              "      <th>2</th>\n",
              "      <td>Negative</td>\n",
              "      <td>whole bodi feel itchi like fire</td>\n",
              "    </tr>\n",
              "    <tr>\n",
              "      <th>3</th>\n",
              "      <td>Negative</td>\n",
              "      <td>behav im mad cant see</td>\n",
              "    </tr>\n",
              "    <tr>\n",
              "      <th>4</th>\n",
              "      <td>Negative</td>\n",
              "      <td>whole crew</td>\n",
              "    </tr>\n",
              "  </tbody>\n",
              "</table>\n",
              "</div>\n",
              "      <button class=\"colab-df-convert\" onclick=\"convertToInteractive('df-a7c00ede-61fb-4e17-97fd-a5b6e125a41a')\"\n",
              "              title=\"Convert this dataframe to an interactive table.\"\n",
              "              style=\"display:none;\">\n",
              "        \n",
              "  <svg xmlns=\"http://www.w3.org/2000/svg\" height=\"24px\"viewBox=\"0 0 24 24\"\n",
              "       width=\"24px\">\n",
              "    <path d=\"M0 0h24v24H0V0z\" fill=\"none\"/>\n",
              "    <path d=\"M18.56 5.44l.94 2.06.94-2.06 2.06-.94-2.06-.94-.94-2.06-.94 2.06-2.06.94zm-11 1L8.5 8.5l.94-2.06 2.06-.94-2.06-.94L8.5 2.5l-.94 2.06-2.06.94zm10 10l.94 2.06.94-2.06 2.06-.94-2.06-.94-.94-2.06-.94 2.06-2.06.94z\"/><path d=\"M17.41 7.96l-1.37-1.37c-.4-.4-.92-.59-1.43-.59-.52 0-1.04.2-1.43.59L10.3 9.45l-7.72 7.72c-.78.78-.78 2.05 0 2.83L4 21.41c.39.39.9.59 1.41.59.51 0 1.02-.2 1.41-.59l7.78-7.78 2.81-2.81c.8-.78.8-2.07 0-2.86zM5.41 20L4 18.59l7.72-7.72 1.47 1.35L5.41 20z\"/>\n",
              "  </svg>\n",
              "      </button>\n",
              "      \n",
              "  <style>\n",
              "    .colab-df-container {\n",
              "      display:flex;\n",
              "      flex-wrap:wrap;\n",
              "      gap: 12px;\n",
              "    }\n",
              "\n",
              "    .colab-df-convert {\n",
              "      background-color: #E8F0FE;\n",
              "      border: none;\n",
              "      border-radius: 50%;\n",
              "      cursor: pointer;\n",
              "      display: none;\n",
              "      fill: #1967D2;\n",
              "      height: 32px;\n",
              "      padding: 0 0 0 0;\n",
              "      width: 32px;\n",
              "    }\n",
              "\n",
              "    .colab-df-convert:hover {\n",
              "      background-color: #E2EBFA;\n",
              "      box-shadow: 0px 1px 2px rgba(60, 64, 67, 0.3), 0px 1px 3px 1px rgba(60, 64, 67, 0.15);\n",
              "      fill: #174EA6;\n",
              "    }\n",
              "\n",
              "    [theme=dark] .colab-df-convert {\n",
              "      background-color: #3B4455;\n",
              "      fill: #D2E3FC;\n",
              "    }\n",
              "\n",
              "    [theme=dark] .colab-df-convert:hover {\n",
              "      background-color: #434B5C;\n",
              "      box-shadow: 0px 1px 3px 1px rgba(0, 0, 0, 0.15);\n",
              "      filter: drop-shadow(0px 1px 2px rgba(0, 0, 0, 0.3));\n",
              "      fill: #FFFFFF;\n",
              "    }\n",
              "  </style>\n",
              "\n",
              "      <script>\n",
              "        const buttonEl =\n",
              "          document.querySelector('#df-a7c00ede-61fb-4e17-97fd-a5b6e125a41a button.colab-df-convert');\n",
              "        buttonEl.style.display =\n",
              "          google.colab.kernel.accessAllowed ? 'block' : 'none';\n",
              "\n",
              "        async function convertToInteractive(key) {\n",
              "          const element = document.querySelector('#df-a7c00ede-61fb-4e17-97fd-a5b6e125a41a');\n",
              "          const dataTable =\n",
              "            await google.colab.kernel.invokeFunction('convertToInteractive',\n",
              "                                                     [key], {});\n",
              "          if (!dataTable) return;\n",
              "\n",
              "          const docLinkHtml = 'Like what you see? Visit the ' +\n",
              "            '<a target=\"_blank\" href=https://colab.research.google.com/notebooks/data_table.ipynb>data table notebook</a>'\n",
              "            + ' to learn more about interactive tables.';\n",
              "          element.innerHTML = '';\n",
              "          dataTable['output_type'] = 'display_data';\n",
              "          await google.colab.output.renderOutput(dataTable, element);\n",
              "          const docLink = document.createElement('div');\n",
              "          docLink.innerHTML = docLinkHtml;\n",
              "          element.appendChild(docLink);\n",
              "        }\n",
              "      </script>\n",
              "    </div>\n",
              "  </div>\n",
              "  "
            ]
          },
          "metadata": {},
          "execution_count": 6
        }
      ]
    },
    {
      "cell_type": "code",
      "source": [
        "print(df.isnull().sum())\n",
        "df.dropna(inplace=True) # clean na"
      ],
      "metadata": {
        "colab": {
          "base_uri": "https://localhost:8080/",
          "height": 0
        },
        "id": "_pLQRuXoce35",
        "outputId": "4aefab5b-87f1-4041-a158-88ab6756c4e8"
      },
      "execution_count": 7,
      "outputs": [
        {
          "output_type": "stream",
          "name": "stdout",
          "text": [
            "target    0\n",
            "Clean     1\n",
            "dtype: int64\n"
          ]
        }
      ]
    },
    {
      "cell_type": "code",
      "source": [
        "# simple train test split\n",
        "\n",
        "from sklearn.model_selection import train_test_split\n",
        "train_data, test_data = train_test_split(df, test_size=0.3, random_state=42)\n",
        "print(train_data.target.value_counts())\n",
        "print(test_data.target.value_counts())\n"
      ],
      "metadata": {
        "colab": {
          "base_uri": "https://localhost:8080/",
          "height": 0
        },
        "id": "UA5G7UC8chL0",
        "outputId": "c1b91538-4bf1-40e5-f186-170dee512bef"
      },
      "execution_count": 8,
      "outputs": [
        {
          "output_type": "stream",
          "name": "stdout",
          "text": [
            "Negative    524643\n",
            "Positive    513415\n",
            "Name: target, dtype: int64\n",
            "Negative    224225\n",
            "Positive    220658\n",
            "Name: target, dtype: int64\n"
          ]
        }
      ]
    },
    {
      "cell_type": "code",
      "source": [
        "from gensim.models.phrases import Phraser, Phrases\n",
        "unigrams = [_.split() for _ in df.Clean]\n",
        "unigrams[0:5]"
      ],
      "metadata": {
        "colab": {
          "base_uri": "https://localhost:8080/",
          "height": 0
        },
        "id": "ZqWFJobBci5t",
        "outputId": "3e3afdb2-1619-41df-d44a-cb35aff9a53b"
      },
      "execution_count": 9,
      "outputs": [
        {
          "output_type": "execute_result",
          "data": {
            "text/plain": [
              "[['upset',\n",
              "  'cant',\n",
              "  'updat',\n",
              "  'facebook',\n",
              "  'text',\n",
              "  'might',\n",
              "  'cri',\n",
              "  'result',\n",
              "  'school',\n",
              "  'today',\n",
              "  'also',\n",
              "  'blah'],\n",
              " ['dive',\n",
              "  'mani',\n",
              "  'time',\n",
              "  'ball',\n",
              "  'manag',\n",
              "  'save',\n",
              "  '50',\n",
              "  'rest',\n",
              "  'go',\n",
              "  'bound'],\n",
              " ['whole', 'bodi', 'feel', 'itchi', 'like', 'fire'],\n",
              " ['behav', 'im', 'mad', 'cant', 'see'],\n",
              " ['whole', 'crew']]"
            ]
          },
          "metadata": {},
          "execution_count": 9
        }
      ]
    },
    {
      "cell_type": "code",
      "source": [
        "phrases = Phrases(unigrams, min_count=40, progress_per=10000)\n",
        "bigrams = Phraser(phrases)\n",
        "sentences = bigrams[unigrams]\n",
        "sentences[0:5]"
      ],
      "metadata": {
        "colab": {
          "base_uri": "https://localhost:8080/",
          "height": 0
        },
        "id": "PW-tL8Kgcl0H",
        "outputId": "ed0f6cac-9ab5-46ef-ed5f-2121bd213eeb"
      },
      "execution_count": 10,
      "outputs": [
        {
          "output_type": "execute_result",
          "data": {
            "text/plain": [
              "<gensim.interfaces.TransformedCorpus at 0x7f72d5203df0>"
            ]
          },
          "metadata": {},
          "execution_count": 10
        }
      ]
    },
    {
      "cell_type": "code",
      "source": [
        "# sanity check time ! im not schizo\n",
        "# get the number of words in the vocabulary\n",
        "from collections import defaultdict\n",
        "wrdfreq = defaultdict(int)\n",
        "for myphrase in sentences:\n",
        "    for oneword in myphrase:\n",
        "        wrdfreq[oneword] += 1\n",
        "len(wrdfreq)"
      ],
      "metadata": {
        "colab": {
          "base_uri": "https://localhost:8080/",
          "height": 0
        },
        "id": "oS59i0bWcoOv",
        "outputId": "8795a58e-7290-4d40-d3ab-b0489f611439"
      },
      "execution_count": 11,
      "outputs": [
        {
          "output_type": "execute_result",
          "data": {
            "text/plain": [
              "454515"
            ]
          },
          "metadata": {},
          "execution_count": 11
        }
      ]
    },
    {
      "cell_type": "code",
      "source": [
        "# check the most frequent words\n",
        "# we removed stopwords, so not seen 'the' is expected\n",
        "sorted(wrdfreq, key=wrdfreq.get, reverse=True)[:10]"
      ],
      "metadata": {
        "colab": {
          "base_uri": "https://localhost:8080/",
          "height": 0
        },
        "id": "nx5iPwzccw26",
        "outputId": "02ae82ee-fe8d-44e6-fd7a-3d883bb42adf"
      },
      "execution_count": 12,
      "outputs": [
        {
          "output_type": "execute_result",
          "data": {
            "text/plain": [
              "['im', 'go', 'get', 'day', 'work', 'love', 'good', 'like', 'today', 'time']"
            ]
          },
          "metadata": {},
          "execution_count": 12
        }
      ]
    },
    {
      "cell_type": "code",
      "source": [
        "# for workers in building genshimmodel\n",
        "\n",
        "import multiprocessing\n",
        "from gensim.models import Word2Vec\n",
        "\n",
        "corecount = multiprocessing.cpu_count()\n",
        "corecount"
      ],
      "metadata": {
        "colab": {
          "base_uri": "https://localhost:8080/",
          "height": 0
        },
        "id": "tnDnk4BHc052",
        "outputId": "1620cc8c-c634-4ce4-ff6a-251549203423"
      },
      "execution_count": 13,
      "outputs": [
        {
          "output_type": "execute_result",
          "data": {
            "text/plain": [
              "2"
            ]
          },
          "metadata": {},
          "execution_count": 13
        }
      ]
    },
    {
      "cell_type": "code",
      "source": [
        "genshinmodel = Word2Vec(\n",
        "    min_count= 30, # ignores words which appear less than 30 times in the corpora\n",
        "    window= 7, # context window size\n",
        "    vector_size= 300, # size of the vector\n",
        "    sample= 5e-5, # random downsampling of high freq words\n",
        "    alpha= 0.04, # learning rate\n",
        "    min_alpha= 0.005, # minimum rate of learning, where it will stop dropping\n",
        "    negative= 10, # negative sampling for drowning\n",
        "    workers= corecount-1\n",
        ")"
      ],
      "metadata": {
        "id": "68jh3WJzc2TI"
      },
      "execution_count": 14,
      "outputs": []
    },
    {
      "cell_type": "code",
      "source": [
        "import time\n",
        "t = time.time()\n",
        "\n",
        "# monitor time and build the vocabulary\n",
        "# mesh them up real good\n",
        "genshinmodel.build_vocab(sentences, progress_per=10000)\n",
        "print(\"\\n\\ntook time\", (time.time()-t), \"s\")"
      ],
      "metadata": {
        "colab": {
          "base_uri": "https://localhost:8080/",
          "height": 0
        },
        "id": "9CPJeZyHc4X8",
        "outputId": "5a33625f-4b29-43ad-c32f-692c48c351ad"
      },
      "execution_count": 15,
      "outputs": [
        {
          "output_type": "stream",
          "name": "stdout",
          "text": [
            "\n",
            "\n",
            "took time 12.653753519058228 s\n"
          ]
        }
      ]
    },
    {
      "cell_type": "code",
      "source": [
        "t= time.time()\n",
        "# and now, train it. the important part\n",
        "# as expected, takes a bit of time.\n",
        "# more epochs will result in better results as a rule of thumb\n",
        "# but 30 is fine.\n",
        "# total examples\n",
        "genshinmodel.train(\n",
        "    sentences, # the corpus\n",
        "    total_examples=genshinmodel.corpus_count, # number of sentences\n",
        "    epochs=30, # how many epochs to train for\n",
        "    report_delay=1 # progress report how often, in seconds. can honestly set it to high 10s\n",
        "    )\n",
        "print(\"\\n\\ntook time\", (time.time()-t), \"s\")"
      ],
      "metadata": {
        "colab": {
          "base_uri": "https://localhost:8080/",
          "height": 0
        },
        "id": "5LO-OL2Zc-7d",
        "outputId": "5741f84c-18c8-4977-8a76-1d155222e1c4"
      },
      "execution_count": 16,
      "outputs": [
        {
          "output_type": "stream",
          "name": "stdout",
          "text": [
            "\n",
            "\n",
            "took time 1021.8200531005859 s\n"
          ]
        }
      ]
    },
    {
      "cell_type": "code",
      "source": [
        "from nltk.stem import SnowballStemmer\n",
        "stemmer = SnowballStemmer('english') # stemmer for similarity"
      ],
      "metadata": {
        "id": "OMQYUlirdAoi"
      },
      "execution_count": 17,
      "outputs": []
    },
    {
      "cell_type": "code",
      "source": [
        "genshinmodel.wv.most_similar(stemmer.stem('test')) # show the similarity checker"
      ],
      "metadata": {
        "colab": {
          "base_uri": "https://localhost:8080/",
          "height": 0
        },
        "id": "WYxJBvnWdEin",
        "outputId": "5e7c884b-d1f9-4e9e-bf9b-0fdbaf3c4eb8"
      },
      "execution_count": 18,
      "outputs": [
        {
          "output_type": "execute_result",
          "data": {
            "text/plain": [
              "[('exam', 0.564516544342041),\n",
              " ('math', 0.5120426416397095),\n",
              " ('studi', 0.5028963685035706),\n",
              " ('fail', 0.4861163794994354),\n",
              " ('oral_exam', 0.46020105481147766),\n",
              " ('modul', 0.45380353927612305),\n",
              " ('math_gcse', 0.452207088470459),\n",
              " ('retak', 0.4450313448905945),\n",
              " ('class', 0.43802914023399353),\n",
              " ('scienc', 0.43654054403305054)]"
            ]
          },
          "metadata": {},
          "execution_count": 18
        }
      ]
    },
    {
      "cell_type": "code",
      "source": [
        "# keras modeling.\n",
        "# i love the simplicity, but not having 12.1 cuda support on my system kinda hurts\n",
        "\n",
        "from keras.models import Sequential\n",
        "from keras.layers import Activation, Dense, Dropout, Embedding, Flatten, Conv1D, MaxPooling1D, LSTM\n",
        "from keras import utils\n",
        "from keras.callbacks import ReduceLROnPlateau, EarlyStopping"
      ],
      "metadata": {
        "id": "amKayuIOdFe5"
      },
      "execution_count": 19,
      "outputs": []
    },
    {
      "cell_type": "code",
      "source": [
        "# tokenize the inputs\n",
        "# initiliaze ont he dataset\n",
        "\n",
        "from keras.preprocessing.text import Tokenizer\n",
        "tknizer = Tokenizer()\n",
        "tknizer.fit_on_texts(df.Clean)"
      ],
      "metadata": {
        "id": "iv9D8JOvdGar"
      },
      "execution_count": 20,
      "outputs": []
    },
    {
      "cell_type": "code",
      "source": [
        "# ensure they are of the same length by padding. check pad_sequences docu for various params\n",
        "# doing simple pre-padding here\n",
        "\n",
        "from keras.utils import pad_sequences\n",
        "\n",
        "x_train = pad_sequences(tknizer.texts_to_sequences(train_data.Clean), maxlen=140)\n",
        "x_test = pad_sequences(tknizer.texts_to_sequences(test_data.Clean), maxlen=140) # twitter absolute max size\n",
        "\n",
        "print(\"x_train\", x_train.shape)\n",
        "print(\"x_test\", x_test.shape)"
      ],
      "metadata": {
        "colab": {
          "base_uri": "https://localhost:8080/",
          "height": 0
        },
        "id": "7Oo_0LI-dHid",
        "outputId": "da4cb1a1-22b4-4a80-cbb6-5740d9892252"
      },
      "execution_count": 21,
      "outputs": [
        {
          "output_type": "stream",
          "name": "stdout",
          "text": [
            "x_train (1038058, 140)\n",
            "x_test (444883, 140)\n"
          ]
        }
      ]
    },
    {
      "cell_type": "code",
      "source": [
        "# encode labels and transform\n",
        "\n",
        "from sklearn.preprocessing import LabelEncoder\n",
        "labels = df.target.unique().tolist()\n",
        "print(labels)\n",
        "\n",
        "encoder = LabelEncoder()\n",
        "encoder.fit(df.target.tolist()) # initialize encoder logic\n",
        "\n",
        "# the usual\n",
        "# x -> features\n",
        "# y -> labels\n",
        "# we encode the labels\n",
        "\n",
        "y_train = encoder.transform(train_data.target.tolist()) # encode the target into y_train\n",
        "y_test = encoder.transform(test_data.target.tolist()) # encode to y_test\n",
        "\n",
        "y_train = y_train.reshape(-1,1)\n",
        "y_test = y_test.reshape(-1,1)\n",
        "\n",
        "print(\"y_train\",y_train.shape)\n",
        "print(\"y_test\",y_test.shape)"
      ],
      "metadata": {
        "colab": {
          "base_uri": "https://localhost:8080/",
          "height": 0
        },
        "id": "NZJi_ZWndIaq",
        "outputId": "36a23d76-aa3e-4397-ccb6-15bcf6e4411a"
      },
      "execution_count": 22,
      "outputs": [
        {
          "output_type": "stream",
          "name": "stdout",
          "text": [
            "['Negative', 'Positive']\n",
            "y_train (1038058, 1)\n",
            "y_test (444883, 1)\n"
          ]
        }
      ]
    },
    {
      "cell_type": "code",
      "source": [
        "# sanity check\n",
        "# did we reshape, did we matrixizce the inputs\n",
        "print(\n",
        "y_test[0:5],\n",
        "x_test[0])"
      ],
      "metadata": {
        "colab": {
          "base_uri": "https://localhost:8080/",
          "height": 0
        },
        "id": "uuDTw66rdJZN",
        "outputId": "a1de3dd9-463e-4e40-a804-c0d027f7d57f"
      },
      "execution_count": 23,
      "outputs": [
        {
          "output_type": "stream",
          "name": "stdout",
          "text": [
            "[[1]\n",
            " [1]\n",
            " [0]\n",
            " [1]\n",
            " [1]] [   0    0    0    0    0    0    0    0    0    0    0    0    0    0\n",
            "    0    0    0    0    0    0    0    0    0    0    0    0    0    0\n",
            "    0    0    0    0    0    0    0    0    0    0    0    0    0    0\n",
            "    0    0    0    0    0    0    0    0    0    0    0    0    0    0\n",
            "    0    0    0    0    0    0    0    0    0    0    0    0    0    0\n",
            "    0    0    0    0    0    0    0    0    0    0    0    0    0    0\n",
            "    0    0    0    0    0    0    0    0    0    0    0    0    0    0\n",
            "    0    0    0    0    0    0    0    0    0    0    0    0    0    0\n",
            "    0    0    0    0    0    0    0    0    0    0    0    0    0    0\n",
            "    0    0    0    0    0    0 1279   44   91  278  283  100   42   52]\n"
          ]
        }
      ]
    },
    {
      "cell_type": "code",
      "source": [
        "import numpy as np\n",
        "# embed the precious genshim word2vec model\n",
        "\n",
        "embedding_matrix = np.zeros((len(wrdfreq), 300))\n",
        "for word, i in tknizer.word_index.items():\n",
        "  if word in genshinmodel.wv:\n",
        "    embedding_matrix[i] = genshinmodel.wv[word]\n",
        "\n",
        "# the embedding matrix maps index to vectors\n",
        "\n",
        "print(embedding_matrix.shape)"
      ],
      "metadata": {
        "colab": {
          "base_uri": "https://localhost:8080/",
          "height": 0
        },
        "id": "avElP3vFdKSd",
        "outputId": "3a50f8c0-8c12-485e-b965-e7d4b6dc5b70"
      },
      "execution_count": 24,
      "outputs": [
        {
          "output_type": "stream",
          "name": "stdout",
          "text": [
            "(454515, 300)\n"
          ]
        }
      ]
    },
    {
      "cell_type": "code",
      "source": [
        "embedding_layer = Embedding(len(wrdfreq), 300, weights=[embedding_matrix], input_length=140, trainable=False)"
      ],
      "metadata": {
        "id": "nLi7P4VsdLJK"
      },
      "execution_count": 25,
      "outputs": []
    },
    {
      "cell_type": "code",
      "source": [
        "# rest of the model layers\n",
        "model = Sequential()\n",
        "model.add(embedding_layer) # to make relevant connections\n",
        "model.add(Dropout(0.2))\n",
        "model.add(LSTM(200, dropout=0.2, return_sequences=True)) # multiple LSTM layers\n",
        "# dropouts prevent overfitting, and lower reliance on regularly occuring words\n",
        "# encourages to actually learn and not take shortcuts\n",
        "# afterall, its not a real human, we cant have it take shortcuts\n",
        "model.add(LSTM(100, recurrent_dropout=0.1, return_sequences=True))\n",
        "model.add(Dropout(0.15))\n",
        "# recurrent dropout drops the connection between recurernt cells\n",
        "# i.e; memory and hidden. captures longer term dependancies\n",
        "model.add(LSTM(50))\n",
        "model.add(Dense(1, activation='sigmoid')) # sigmoid because we need binary output\n",
        "\n",
        "model.summary()"
      ],
      "metadata": {
        "colab": {
          "base_uri": "https://localhost:8080/",
          "height": 0
        },
        "id": "BSED04wNdMS5",
        "outputId": "63376f5e-fd29-4b0b-b51c-ef532a34213b"
      },
      "execution_count": 31,
      "outputs": [
        {
          "output_type": "stream",
          "name": "stderr",
          "text": [
            "WARNING:tensorflow:Layer lstm_6 will not use cuDNN kernels since it doesn't meet the criteria. It will use a generic GPU kernel as fallback when running on GPU.\n"
          ]
        },
        {
          "output_type": "stream",
          "name": "stdout",
          "text": [
            "Model: \"sequential_2\"\n",
            "_________________________________________________________________\n",
            " Layer (type)                Output Shape              Param #   \n",
            "=================================================================\n",
            " embedding (Embedding)       (None, 140, 300)          136354500 \n",
            "                                                                 \n",
            " dropout_2 (Dropout)         (None, 140, 300)          0         \n",
            "                                                                 \n",
            " lstm_5 (LSTM)               (None, 140, 200)          400800    \n",
            "                                                                 \n",
            " lstm_6 (LSTM)               (None, 140, 100)          120400    \n",
            "                                                                 \n",
            " dropout_3 (Dropout)         (None, 140, 100)          0         \n",
            "                                                                 \n",
            " lstm_7 (LSTM)               (None, 50)                30200     \n",
            "                                                                 \n",
            " dense_1 (Dense)             (None, 1)                 51        \n",
            "                                                                 \n",
            "=================================================================\n",
            "Total params: 136,905,951\n",
            "Trainable params: 551,451\n",
            "Non-trainable params: 136,354,500\n",
            "_________________________________________________________________\n"
          ]
        }
      ]
    },
    {
      "cell_type": "code",
      "source": [
        "# compile the model\n",
        "\n",
        "model.compile(loss='binary_crossentropy',\n",
        "              optimizer=\"adam\",\n",
        "              metrics=['accuracy'])"
      ],
      "metadata": {
        "id": "WQLMRU91dNV5"
      },
      "execution_count": 33,
      "outputs": []
    },
    {
      "cell_type": "code",
      "source": [
        "# callback so we dont train forever\n",
        "# model checkpoint added retrospectively\n",
        "# now im stuck waiting for this to be finished, which will take forever. Sadge\n",
        "from keras.callbacks import ModelCheckpoint\n",
        "\n",
        "callbacks = [ ReduceLROnPlateau(monitor='val_loss', patience=3, cooldown=0),\n",
        "              EarlyStopping(monitor='val_accuracy', min_delta=2e-3, patience=3),\n",
        "               ModelCheckpoint(filepath='model_checkpoint.h5', save_best_only=True, save_weights_only=False)\n",
        "               ]"
      ],
      "metadata": {
        "id": "XCn85GJJdOWr"
      },
      "execution_count": 28,
      "outputs": []
    },
    {
      "cell_type": "code",
      "source": [
        "t = time.time()\n",
        "# train. my system takes ~ 3 hrs or so\n",
        "history = model.fit(x_train, y_train,\n",
        "                    batch_size=1024,\n",
        "                    epochs=10,\n",
        "                    validation_split=0.12,\n",
        "                    verbose=1,\n",
        "                    callbacks=callbacks)\n",
        "\n",
        "print(\"time taken\", time.time() - t, \"s\")"
      ],
      "metadata": {
        "colab": {
          "base_uri": "https://localhost:8080/",
          "height": 0
        },
        "id": "S3CYsHVedPjS",
        "outputId": "dfb79298-3f42-4f24-f80a-5dde24170235"
      },
      "execution_count": 34,
      "outputs": [
        {
          "output_type": "stream",
          "name": "stdout",
          "text": [
            "Epoch 1/10\n",
            "893/893 [==============================] - ETA: 0s - loss: 0.4947 - accuracy: 0.7579"
          ]
        },
        {
          "output_type": "stream",
          "name": "stderr",
          "text": [
            "WARNING:tensorflow:Early stopping conditioned on metric `val_acc` which is not available. Available metrics are: loss,accuracy,val_loss,val_accuracy,lr\n"
          ]
        },
        {
          "output_type": "stream",
          "name": "stdout",
          "text": [
            "\b\b\b\b\b\b\b\b\b\b\b\b\b\b\b\b\b\b\b\b\b\b\b\b\b\b\b\b\b\b\b\b\b\b\b\b\b\b\b\b\b\b\b\b\b\b\b\b\b\b\b\b\b\b\b\b\b\b\b\b\b\b\b\b\b\b\b\b\b\b\b\b\b\b\b\b\b\b\b\b\b\b\b\b\r893/893 [==============================] - 648s 702ms/step - loss: 0.4947 - accuracy: 0.7579 - val_loss: 0.4595 - val_accuracy: 0.7821 - lr: 0.0010\n",
            "Epoch 2/10\n",
            "893/893 [==============================] - ETA: 0s - loss: 0.4608 - accuracy: 0.7807"
          ]
        },
        {
          "output_type": "stream",
          "name": "stderr",
          "text": [
            "WARNING:tensorflow:Early stopping conditioned on metric `val_acc` which is not available. Available metrics are: loss,accuracy,val_loss,val_accuracy,lr\n"
          ]
        },
        {
          "output_type": "stream",
          "name": "stdout",
          "text": [
            "\b\b\b\b\b\b\b\b\b\b\b\b\b\b\b\b\b\b\b\b\b\b\b\b\b\b\b\b\b\b\b\b\b\b\b\b\b\b\b\b\b\b\b\b\b\b\b\b\b\b\b\b\b\b\b\b\b\b\b\b\b\b\b\b\b\b\b\b\b\b\b\b\b\b\b\b\b\b\b\b\b\b\b\b\r893/893 [==============================] - 649s 726ms/step - loss: 0.4608 - accuracy: 0.7807 - val_loss: 0.4469 - val_accuracy: 0.7885 - lr: 0.0010\n",
            "Epoch 3/10\n",
            "893/893 [==============================] - ETA: 0s - loss: 0.4487 - accuracy: 0.7880"
          ]
        },
        {
          "output_type": "stream",
          "name": "stderr",
          "text": [
            "WARNING:tensorflow:Early stopping conditioned on metric `val_acc` which is not available. Available metrics are: loss,accuracy,val_loss,val_accuracy,lr\n"
          ]
        },
        {
          "output_type": "stream",
          "name": "stdout",
          "text": [
            "\b\b\b\b\b\b\b\b\b\b\b\b\b\b\b\b\b\b\b\b\b\b\b\b\b\b\b\b\b\b\b\b\b\b\b\b\b\b\b\b\b\b\b\b\b\b\b\b\b\b\b\b\b\b\b\b\b\b\b\b\b\b\b\b\b\b\b\b\b\b\b\b\b\b\b\b\b\b\b\b\b\b\b\b\r893/893 [==============================] - 643s 720ms/step - loss: 0.4487 - accuracy: 0.7880 - val_loss: 0.4408 - val_accuracy: 0.7931 - lr: 0.0010\n",
            "Epoch 4/10\n",
            "893/893 [==============================] - ETA: 0s - loss: 0.4405 - accuracy: 0.7929"
          ]
        },
        {
          "output_type": "stream",
          "name": "stderr",
          "text": [
            "WARNING:tensorflow:Early stopping conditioned on metric `val_acc` which is not available. Available metrics are: loss,accuracy,val_loss,val_accuracy,lr\n"
          ]
        },
        {
          "output_type": "stream",
          "name": "stdout",
          "text": [
            "\b\b\b\b\b\b\b\b\b\b\b\b\b\b\b\b\b\b\b\b\b\b\b\b\b\b\b\b\b\b\b\b\b\b\b\b\b\b\b\b\b\b\b\b\b\b\b\b\b\b\b\b\b\b\b\b\b\b\b\b\b\b\b\b\b\b\b\b\b\b\b\b\b\b\b\b\b\b\b\b\b\b\b\b\r893/893 [==============================] - 646s 724ms/step - loss: 0.4405 - accuracy: 0.7929 - val_loss: 0.4377 - val_accuracy: 0.7952 - lr: 0.0010\n",
            "Epoch 5/10\n",
            "893/893 [==============================] - ETA: 0s - loss: 0.4338 - accuracy: 0.7968"
          ]
        },
        {
          "output_type": "stream",
          "name": "stderr",
          "text": [
            "WARNING:tensorflow:Early stopping conditioned on metric `val_acc` which is not available. Available metrics are: loss,accuracy,val_loss,val_accuracy,lr\n"
          ]
        },
        {
          "output_type": "stream",
          "name": "stdout",
          "text": [
            "\b\b\b\b\b\b\b\b\b\b\b\b\b\b\b\b\b\b\b\b\b\b\b\b\b\b\b\b\b\b\b\b\b\b\b\b\b\b\b\b\b\b\b\b\b\b\b\b\b\b\b\b\b\b\b\b\b\b\b\b\b\b\b\b\b\b\b\b\b\b\b\b\b\b\b\b\b\b\b\b\b\b\b\b\r893/893 [==============================] - 616s 690ms/step - loss: 0.4338 - accuracy: 0.7968 - val_loss: 0.4379 - val_accuracy: 0.7962 - lr: 0.0010\n",
            "Epoch 6/10\n",
            "893/893 [==============================] - ETA: 0s - loss: 0.4280 - accuracy: 0.7999"
          ]
        },
        {
          "output_type": "stream",
          "name": "stderr",
          "text": [
            "WARNING:tensorflow:Early stopping conditioned on metric `val_acc` which is not available. Available metrics are: loss,accuracy,val_loss,val_accuracy,lr\n"
          ]
        },
        {
          "output_type": "stream",
          "name": "stdout",
          "text": [
            "\b\b\b\b\b\b\b\b\b\b\b\b\b\b\b\b\b\b\b\b\b\b\b\b\b\b\b\b\b\b\b\b\b\b\b\b\b\b\b\b\b\b\b\b\b\b\b\b\b\b\b\b\b\b\b\b\b\b\b\b\b\b\b\b\b\b\b\b\b\b\b\b\b\b\b\b\b\b\b\b\b\b\b\b\r893/893 [==============================] - 633s 709ms/step - loss: 0.4280 - accuracy: 0.7999 - val_loss: 0.4359 - val_accuracy: 0.7973 - lr: 0.0010\n",
            "Epoch 7/10\n",
            "893/893 [==============================] - ETA: 0s - loss: 0.4240 - accuracy: 0.8022"
          ]
        },
        {
          "output_type": "stream",
          "name": "stderr",
          "text": [
            "WARNING:tensorflow:Early stopping conditioned on metric `val_acc` which is not available. Available metrics are: loss,accuracy,val_loss,val_accuracy,lr\n"
          ]
        },
        {
          "output_type": "stream",
          "name": "stdout",
          "text": [
            "\b\b\b\b\b\b\b\b\b\b\b\b\b\b\b\b\b\b\b\b\b\b\b\b\b\b\b\b\b\b\b\b\b\b\b\b\b\b\b\b\b\b\b\b\b\b\b\b\b\b\b\b\b\b\b\b\b\b\b\b\b\b\b\b\b\b\b\b\b\b\b\b\b\b\b\b\b\b\b\b\b\b\b\b\r893/893 [==============================] - 611s 684ms/step - loss: 0.4240 - accuracy: 0.8022 - val_loss: 0.4364 - val_accuracy: 0.7960 - lr: 0.0010\n",
            "Epoch 8/10\n",
            "893/893 [==============================] - ETA: 0s - loss: 0.4201 - accuracy: 0.8045"
          ]
        },
        {
          "output_type": "stream",
          "name": "stderr",
          "text": [
            "WARNING:tensorflow:Early stopping conditioned on metric `val_acc` which is not available. Available metrics are: loss,accuracy,val_loss,val_accuracy,lr\n"
          ]
        },
        {
          "output_type": "stream",
          "name": "stdout",
          "text": [
            "\b\b\b\b\b\b\b\b\b\b\b\b\b\b\b\b\b\b\b\b\b\b\b\b\b\b\b\b\b\b\b\b\b\b\b\b\b\b\b\b\b\b\b\b\b\b\b\b\b\b\b\b\b\b\b\b\b\b\b\b\b\b\b\b\b\b\b\b\b\b\b\b\b\b\b\b\b\b\b\b\b\b\b\b\r893/893 [==============================] - 631s 707ms/step - loss: 0.4201 - accuracy: 0.8045 - val_loss: 0.4355 - val_accuracy: 0.7978 - lr: 0.0010\n",
            "Epoch 9/10\n",
            "893/893 [==============================] - ETA: 0s - loss: 0.4162 - accuracy: 0.8067"
          ]
        },
        {
          "output_type": "stream",
          "name": "stderr",
          "text": [
            "WARNING:tensorflow:Early stopping conditioned on metric `val_acc` which is not available. Available metrics are: loss,accuracy,val_loss,val_accuracy,lr\n"
          ]
        },
        {
          "output_type": "stream",
          "name": "stdout",
          "text": [
            "\b\b\b\b\b\b\b\b\b\b\b\b\b\b\b\b\b\b\b\b\b\b\b\b\b\b\b\b\b\b\b\b\b\b\b\b\b\b\b\b\b\b\b\b\b\b\b\b\b\b\b\b\b\b\b\b\b\b\b\b\b\b\b\b\b\b\b\b\b\b\b\b\b\b\b\b\b\b\b\b\b\b\b\b\r893/893 [==============================] - 630s 705ms/step - loss: 0.4162 - accuracy: 0.8067 - val_loss: 0.4353 - val_accuracy: 0.7974 - lr: 0.0010\n",
            "Epoch 10/10\n",
            "893/893 [==============================] - ETA: 0s - loss: 0.4129 - accuracy: 0.8083"
          ]
        },
        {
          "output_type": "stream",
          "name": "stderr",
          "text": [
            "WARNING:tensorflow:Early stopping conditioned on metric `val_acc` which is not available. Available metrics are: loss,accuracy,val_loss,val_accuracy,lr\n"
          ]
        },
        {
          "output_type": "stream",
          "name": "stdout",
          "text": [
            "\b\b\b\b\b\b\b\b\b\b\b\b\b\b\b\b\b\b\b\b\b\b\b\b\b\b\b\b\b\b\b\b\b\b\b\b\b\b\b\b\b\b\b\b\b\b\b\b\b\b\b\b\b\b\b\b\b\b\b\b\b\b\b\b\b\b\b\b\b\b\b\b\b\b\b\b\b\b\b\b\b\b\b\b\r893/893 [==============================] - 622s 697ms/step - loss: 0.4129 - accuracy: 0.8083 - val_loss: 0.4341 - val_accuracy: 0.7986 - lr: 0.0010\n",
            "time taken 6342.21458530426 s\n"
          ]
        }
      ]
    },
    {
      "cell_type": "code",
      "source": [
        "# simple evaluation\n",
        "score = model.evaluate(x_test, y_test, batch_size=512)\n",
        "print(\"accuracy:\",score[1])\n",
        "print(\"loss:\",score[0])"
      ],
      "metadata": {
        "colab": {
          "base_uri": "https://localhost:8080/",
          "height": 0
        },
        "id": "rUfQe4zRdSlm",
        "outputId": "52797fbf-1b4f-4e94-a0ba-6afc18a299f8"
      },
      "execution_count": 35,
      "outputs": [
        {
          "output_type": "stream",
          "name": "stdout",
          "text": [
            "869/869 [==============================] - 57s 65ms/step - loss: 0.4352 - accuracy: 0.7981\n",
            "accuracy: 0.7980952262878418\n",
            "loss: 0.43522322177886963\n"
          ]
        }
      ]
    },
    {
      "cell_type": "code",
      "source": [
        "import pickle\n",
        "\n",
        "# Serialize the objects (x_test and y_test)\n",
        "serialized_x_test = pickle.dumps(x_test)\n",
        "serialized_y_test = pickle.dumps(y_test)\n",
        "\n",
        "# Create a zip file\n",
        "with zipfile.ZipFile('serialized_data.zip', 'w') as zip_file:\n",
        "    # Add the serialized objects to the zip file\n",
        "    zip_file.writestr('x_test.pickle', serialized_x_test)\n",
        "    zip_file.writestr('y_test.pickle', serialized_y_test)"
      ],
      "metadata": {
        "id": "cwFX-JDS9UPU"
      },
      "execution_count": 38,
      "outputs": []
    },
    {
      "cell_type": "code",
      "source": [
        "import zipfile\n",
        "# lets save the model because we dont want to train it for 2 hours every time we open the notebook\n",
        "model.save('snetiment_analzyer.h5')\n",
        "# lets zip it too, so we can save space\n",
        "with zipfile.ZipFile('snetiment_analzyer.zip', 'w', zipfile.ZIP_DEFLATED) as zipf:\n",
        "    zipf.write('snetiment_analzyer.h5')"
      ],
      "metadata": {
        "id": "Zb3_ach3dT-J"
      },
      "execution_count": 36,
      "outputs": []
    },
    {
      "cell_type": "code",
      "source": [
        "# since we have a history object from earlier, we can plot how our model evolved\n",
        "# really helpful to see some cool outputs\n",
        "import matplotlib.pyplot as plt\n",
        "%matplotlib inline\n",
        "\n",
        "acc = history.history['accuracy']\n",
        "val_acc = history.history['val_accuracy']\n",
        "loss = history.history['loss']\n",
        "val_loss = history.history['val_loss']\n",
        "\n",
        "epochs = range(len(acc)) # 3 for us, so not real 'graph', just a few points\n",
        "\n",
        "plt.plot(epochs, acc, 'b', label='Training acc')\n",
        "plt.plot(epochs, val_acc, 'r', label='Validation acc')\n",
        "plt.title('Training and validation accuracy')\n",
        "plt.legend()\n",
        "\n",
        "plt.show()"
      ],
      "metadata": {
        "colab": {
          "base_uri": "https://localhost:8080/",
          "height": 452
        },
        "id": "AKSFD5WydVIm",
        "outputId": "0f94abf5-2ad2-4009-de84-34931c63a91d"
      },
      "execution_count": 41,
      "outputs": [
        {
          "output_type": "display_data",
          "data": {
            "text/plain": [
              "<Figure size 640x480 with 1 Axes>"
            ],
            "image/png": "[encoded data removed]"
          },
          "metadata": {}
        }
      ]
    },
    {
      "cell_type": "code",
      "source": [
        "def score_to_sentiment(score, include_neutral=True):\n",
        "  if include_neutral:\n",
        "        label = 'Neutral'\n",
        "        if score <= 0.42:\n",
        "            label = 'Negative'\n",
        "        elif score >= 0.58:\n",
        "            label = 'Positive'\n",
        "        return label\n",
        "  else:\n",
        "      return 'Negative' if score < 0.5 else 'Positive'\n",
        "\n",
        "def predict(text, include_neutral=True):\n",
        "    # Tokenize text\n",
        "    x_test = pad_sequences(tknizer.texts_to_sequences([text]), maxlen=140)\n",
        "    # Predict\n",
        "    score = model.predict([x_test])[0]\n",
        "    # Decode sentiment\n",
        "    label = score_to_sentiment(score, include_neutral)\n",
        "\n",
        "    return {\"text\": text, \"label\": label, \"score\": float(score)}"
      ],
      "metadata": {
        "id": "cS5gcJ58_j34"
      },
      "execution_count": 42,
      "outputs": []
    },
    {
      "cell_type": "code",
      "source": [
        "predict(\"I love the music\")"
      ],
      "metadata": {
        "colab": {
          "base_uri": "https://localhost:8080/",
          "height": 0
        },
        "id": "27cnJqQQAx_Y",
        "outputId": "d4c292b7-bd03-4ba4-b05b-847751fd7e98"
      },
      "execution_count": 43,
      "outputs": [
        {
          "output_type": "stream",
          "name": "stdout",
          "text": [
            "1/1 [==============================] - 1s 803ms/step\n"
          ]
        },
        {
          "output_type": "execute_result",
          "data": {
            "text/plain": [
              "{'text': 'I love the music', 'label': 'Positive', 'score': 0.9515533447265625}"
            ]
          },
          "metadata": {},
          "execution_count": 43
        }
      ]
    },
    {
      "cell_type": "code",
      "source": [
        "predict(\"It's impressive how you always manage to find new ways to avoid taking responsibility.\")"
      ],
      "metadata": {
        "colab": {
          "base_uri": "https://localhost:8080/",
          "height": 0
        },
        "id": "asyMp4vUA1Zd",
        "outputId": "1b602a6a-50c7-4a68-e89b-e1355ceb9b30"
      },
      "execution_count": 44,
      "outputs": [
        {
          "output_type": "stream",
          "name": "stdout",
          "text": [
            "1/1 [==============================] - 0s 193ms/step\n"
          ]
        },
        {
          "output_type": "execute_result",
          "data": {
            "text/plain": [
              "{'text': \"It's impressive how you always manage to find new ways to avoid taking responsibility.\",\n",
              " 'label': 'Neutral',\n",
              " 'score': 0.5647751092910767}"
            ]
          },
          "metadata": {},
          "execution_count": 44
        }
      ]
    },
    {
      "cell_type": "code",
      "source": [
        "predict(\"Every link in Wikipedia is around a six chain away from Hitler\")"
      ],
      "metadata": {
        "colab": {
          "base_uri": "https://localhost:8080/",
          "height": 0
        },
        "id": "QQhz-RJsBDMb",
        "outputId": "060181c4-cd55-4b04-d533-668f97591dfe"
      },
      "execution_count": 45,
      "outputs": [
        {
          "output_type": "stream",
          "name": "stdout",
          "text": [
            "1/1 [==============================] - 0s 100ms/step\n"
          ]
        },
        {
          "output_type": "execute_result",
          "data": {
            "text/plain": [
              "{'text': 'Every link in Wikipedia is around a six chain away from Hitler',\n",
              " 'label': 'Positive',\n",
              " 'score': 0.6825700998306274}"
            ]
          },
          "metadata": {},
          "execution_count": 45
        }
      ]
    },
    {
      "cell_type": "code",
      "source": [
        "predict(\"My dad beats me, my mom beats me, my friends beat me. But I feel safe with Vitality because they can't beat anyone omeglaul\")"
      ],
      "metadata": {
        "colab": {
          "base_uri": "https://localhost:8080/",
          "height": 0
        },
        "id": "QjrpQYy8BS8g",
        "outputId": "6ef385ed-3a65-4142-d8e4-4504da2f989d"
      },
      "execution_count": 46,
      "outputs": [
        {
          "output_type": "stream",
          "name": "stdout",
          "text": [
            "1/1 [==============================] - 0s 111ms/step\n"
          ]
        },
        {
          "output_type": "execute_result",
          "data": {
            "text/plain": [
              "{'text': \"My dad beats me, my mom beats me, my friends beat me. But I feel safe with Vitality because they can't beat anyone omeglaul\",\n",
              " 'label': 'Positive',\n",
              " 'score': 0.7683548927307129}"
            ]
          },
          "metadata": {},
          "execution_count": 46
        }
      ]
    },
    {
      "cell_type": "code",
      "source": [
        "predict(\"doing drugs sucks...\")"
      ],
      "metadata": {
        "colab": {
          "base_uri": "https://localhost:8080/",
          "height": 0
        },
        "id": "WmICnnxpBhOw",
        "outputId": "1fc73d15-2ca3-4a11-de86-392c2c1c6690"
      },
      "execution_count": 47,
      "outputs": [
        {
          "output_type": "stream",
          "name": "stdout",
          "text": [
            "1/1 [==============================] - 0s 124ms/step\n"
          ]
        },
        {
          "output_type": "execute_result",
          "data": {
            "text/plain": [
              "{'text': 'doing drugs sucks...',\n",
              " 'label': 'Positive',\n",
              " 'score': 0.5968612432479858}"
            ]
          },
          "metadata": {},
          "execution_count": 47
        }
      ]
    },
    {
      "cell_type": "code",
      "source": [
        "predict(\"i hate my life\")"
      ],
      "metadata": {
        "colab": {
          "base_uri": "https://localhost:8080/",
          "height": 0
        },
        "id": "u4TiX4vLBpEQ",
        "outputId": "031971c1-606d-472c-99a0-791e2c711316"
      },
      "execution_count": 49,
      "outputs": [
        {
          "output_type": "stream",
          "name": "stdout",
          "text": [
            "1/1 [==============================] - 0s 133ms/step\n"
          ]
        },
        {
          "output_type": "execute_result",
          "data": {
            "text/plain": [
              "{'text': 'i hate my life', 'label': 'Negative', 'score': 0.03444806858897209}"
            ]
          },
          "metadata": {},
          "execution_count": 49
        }
      ]
    },
    {
      "cell_type": "code",
      "source": [
        "# try to add confusion matrix later\n",
        "\n",
        "# y_pred_1d = []\n",
        "# y_test_1d = list(test_data.target)\n",
        "# scores = model.predict(x_test)\n",
        "# y_pred_1d = [score_to_sentiment(score, include_neutral=False) for score in scores]"
      ],
      "metadata": {
        "colab": {
          "base_uri": "https://localhost:8080/",
          "height": 363
        },
        "id": "mP9k07FjB3Qh",
        "outputId": "c5777ed9-2168-467a-c4cc-0e3b7c0bced4"
      },
      "execution_count": 54,
      "outputs": [
        {
          "output_type": "error",
          "ename": "InternalError",
          "evalue": "ignored",
          "traceback": [
            "\u001b[0;31m---------------------------------------------------------------------------\u001b[0m",
            "\u001b[0;31mInternalError\u001b[0m                             Traceback (most recent call last)",
            "\u001b[0;32m<ipython-input-54-27fc5bc5a1fe>\u001b[0m in \u001b[0;36m<cell line: 3>\u001b[0;34m()\u001b[0m\n\u001b[1;32m      1\u001b[0m \u001b[0my_pred_1d\u001b[0m \u001b[0;34m=\u001b[0m \u001b[0;34m[\u001b[0m\u001b[0;34m]\u001b[0m\u001b[0;34m\u001b[0m\u001b[0;34m\u001b[0m\u001b[0m\n\u001b[1;32m      2\u001b[0m \u001b[0my_test_1d\u001b[0m \u001b[0;34m=\u001b[0m \u001b[0mlist\u001b[0m\u001b[0;34m(\u001b[0m\u001b[0mdf\u001b[0m\u001b[0;34m.\u001b[0m\u001b[0mtarget\u001b[0m\u001b[0;34m)\u001b[0m\u001b[0;34m\u001b[0m\u001b[0;34m\u001b[0m\u001b[0m\n\u001b[0;32m----> 3\u001b[0;31m \u001b[0mscores\u001b[0m \u001b[0;34m=\u001b[0m \u001b[0mmodel\u001b[0m\u001b[0;34m.\u001b[0m\u001b[0mpredict\u001b[0m\u001b[0;34m(\u001b[0m\u001b[0mx_test\u001b[0m\u001b[0;34m)\u001b[0m\u001b[0;34m\u001b[0m\u001b[0;34m\u001b[0m\u001b[0m\n\u001b[0m\u001b[1;32m      4\u001b[0m \u001b[0my_pred_1d\u001b[0m \u001b[0;34m=\u001b[0m \u001b[0;34m[\u001b[0m\u001b[0mscore_to_sentiment\u001b[0m\u001b[0;34m(\u001b[0m\u001b[0mscore\u001b[0m\u001b[0;34m,\u001b[0m \u001b[0minclude_neutral\u001b[0m\u001b[0;34m=\u001b[0m\u001b[0;32mFalse\u001b[0m\u001b[0;34m)\u001b[0m \u001b[0;32mfor\u001b[0m \u001b[0mscore\u001b[0m \u001b[0;32min\u001b[0m \u001b[0mscores\u001b[0m\u001b[0;34m]\u001b[0m\u001b[0;34m\u001b[0m\u001b[0;34m\u001b[0m\u001b[0m\n",
            "\u001b[0;32m/usr/local/lib/python3.10/dist-packages/keras/utils/traceback_utils.py\u001b[0m in \u001b[0;36merror_handler\u001b[0;34m(*args, **kwargs)\u001b[0m\n\u001b[1;32m     68\u001b[0m             \u001b[0;31m# To get the full stack trace, call:\u001b[0m\u001b[0;34m\u001b[0m\u001b[0;34m\u001b[0m\u001b[0m\n\u001b[1;32m     69\u001b[0m             \u001b[0;31m# `tf.debugging.disable_traceback_filtering()`\u001b[0m\u001b[0;34m\u001b[0m\u001b[0;34m\u001b[0m\u001b[0m\n\u001b[0;32m---> 70\u001b[0;31m             \u001b[0;32mraise\u001b[0m \u001b[0me\u001b[0m\u001b[0;34m.\u001b[0m\u001b[0mwith_traceback\u001b[0m\u001b[0;34m(\u001b[0m\u001b[0mfiltered_tb\u001b[0m\u001b[0;34m)\u001b[0m \u001b[0;32mfrom\u001b[0m \u001b[0;32mNone\u001b[0m\u001b[0;34m\u001b[0m\u001b[0;34m\u001b[0m\u001b[0m\n\u001b[0m\u001b[1;32m     71\u001b[0m         \u001b[0;32mfinally\u001b[0m\u001b[0;34m:\u001b[0m\u001b[0;34m\u001b[0m\u001b[0;34m\u001b[0m\u001b[0m\n\u001b[1;32m     72\u001b[0m             \u001b[0;32mdel\u001b[0m \u001b[0mfiltered_tb\u001b[0m\u001b[0;34m\u001b[0m\u001b[0;34m\u001b[0m\u001b[0m\n",
            "\u001b[0;32m/usr/local/lib/python3.10/dist-packages/tensorflow/python/framework/ops.py\u001b[0m in \u001b[0;36m_numpy\u001b[0;34m(self)\u001b[0m\n\u001b[1;32m   1126\u001b[0m       \u001b[0;32mreturn\u001b[0m \u001b[0mself\u001b[0m\u001b[0;34m.\u001b[0m\u001b[0m_numpy_internal\u001b[0m\u001b[0;34m(\u001b[0m\u001b[0;34m)\u001b[0m\u001b[0;34m\u001b[0m\u001b[0;34m\u001b[0m\u001b[0m\n\u001b[1;32m   1127\u001b[0m     \u001b[0;32mexcept\u001b[0m \u001b[0mcore\u001b[0m\u001b[0;34m.\u001b[0m\u001b[0m_NotOkStatusException\u001b[0m \u001b[0;32mas\u001b[0m \u001b[0me\u001b[0m\u001b[0;34m:\u001b[0m  \u001b[0;31m# pylint: disable=protected-access\u001b[0m\u001b[0;34m\u001b[0m\u001b[0;34m\u001b[0m\u001b[0m\n\u001b[0;32m-> 1128\u001b[0;31m       \u001b[0;32mraise\u001b[0m \u001b[0mcore\u001b[0m\u001b[0;34m.\u001b[0m\u001b[0m_status_to_exception\u001b[0m\u001b[0;34m(\u001b[0m\u001b[0me\u001b[0m\u001b[0;34m)\u001b[0m \u001b[0;32mfrom\u001b[0m \u001b[0;32mNone\u001b[0m  \u001b[0;31m# pylint: disable=protected-access\u001b[0m\u001b[0;34m\u001b[0m\u001b[0;34m\u001b[0m\u001b[0m\n\u001b[0m\u001b[1;32m   1129\u001b[0m \u001b[0;34m\u001b[0m\u001b[0m\n\u001b[1;32m   1130\u001b[0m   \u001b[0;34m@\u001b[0m\u001b[0mproperty\u001b[0m\u001b[0;34m\u001b[0m\u001b[0;34m\u001b[0m\u001b[0m\n",
            "\u001b[0;31mInternalError\u001b[0m: stream did not block host until done; was already in an error state"
          ]
        }
      ]
    },
    {
      "cell_type": "code",
      "source": [],
      "metadata": {
        "id": "n3-ebbN3CDNG"
      },
      "execution_count": null,
      "outputs": []
    }
  ]
}