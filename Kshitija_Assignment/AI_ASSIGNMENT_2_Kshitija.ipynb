{
  "nbformat": 4,
  "nbformat_minor": 0,
  "metadata": {
    "colab": {
      "provenance": []
    },
    "kernelspec": {
      "name": "python3",
      "display_name": "Python 3"
    },
    "language_info": {
      "name": "python"
    }
  },
  "cells": [
    {
      "cell_type": "code",
      "execution_count": null,
      "metadata": {
        "id": "DlkGs2psnNeY"
      },
      "outputs": [],
      "source": [
        "import pandas as pd\n",
        "import numpy as np\n",
        "from sklearn.model_selection import train_test_split\n",
        "from sklearn.preprocessing import LabelEncoder, StandardScaler\n"
      ]
    },
    {
      "cell_type": "code",
      "source": [
        "# Read the dataset\n",
        "df = pd.read_csv('drug200.csv')\n"
      ],
      "metadata": {
        "id": "APmh-cHdoW8-"
      },
      "execution_count": null,
      "outputs": []
    },
    {
      "cell_type": "markdown",
      "source": [
        "# New section"
      ],
      "metadata": {
        "id": "owGudE5IVCWt"
      }
    },
    {
      "cell_type": "markdown",
      "source": [
        "DATA PREPROCESSING"
      ],
      "metadata": {
        "id": "LTFu7I39oos8"
      }
    },
    {
      "cell_type": "code",
      "source": [
        "# Split features and target variable\n",
        "X = df.iloc[:, :-1]  # Features\n",
        "y = df.iloc[:, -1]   # Target variable\n",
        "\n",
        "# Encode categorical variables\n",
        "encoder = LabelEncoder()\n",
        "X['Sex'] = encoder.fit_transform(X['Sex'])\n",
        "X['BP'] = encoder.fit_transform(X['BP'])\n",
        "X['Cholesterol'] = encoder.fit_transform(X['Cholesterol'])\n",
        "\n",
        "# Split the data into training and testing sets\n",
        "X_train, X_test, y_train, y_test = train_test_split(X, y, test_size=0.2, random_state=42)\n",
        "\n",
        "# Scale the numerical features\n",
        "scaler = StandardScaler()\n",
        "X_train = scaler.fit_transform(X_train)\n",
        "X_test = scaler.transform(X_test)\n"
      ],
      "metadata": {
        "id": "TGDZfJa1omDX"
      },
      "execution_count": null,
      "outputs": []
    },
    {
      "cell_type": "markdown",
      "source": [
        "BUILDING THE ANN MODEL"
      ],
      "metadata": {
        "id": "K0D3Ir7uox_J"
      }
    },
    {
      "cell_type": "code",
      "source": [
        "import tensorflow as tf\n",
        "from tensorflow.keras.models import Sequential\n",
        "from tensorflow.keras.layers import Dense"
      ],
      "metadata": {
        "id": "sxGYd1XnoodC"
      },
      "execution_count": null,
      "outputs": []
    },
    {
      "cell_type": "code",
      "source": [
        "# Initialize the model\n",
        "model = Sequential()\n",
        "\n",
        "# Add input layer and first hidden layer\n",
        "model.add(Dense(units=32, activation='relu', input_shape=(X_train.shape[1],)))\n",
        "\n",
        "# Add additional hidden layers\n",
        "model.add(Dense(units=64, activation='relu'))\n",
        "model.add(Dense(units=64, activation='relu'))\n",
        "model.add(Dense(units=64, activation='relu'))\n",
        "\n",
        "# Add output layer\n",
        "model.add(Dense(units=1, activation='sigmoid'))\n",
        "\n",
        "# Compile the model\n",
        "model.compile(optimizer='adam', loss='binary_crossentropy', metrics=['accuracy'])"
      ],
      "metadata": {
        "id": "hSUx5HSMo3jk"
      },
      "execution_count": null,
      "outputs": []
    },
    {
      "cell_type": "markdown",
      "source": [
        "TESTING THE MODEL WITH RANDOM DATA\n"
      ],
      "metadata": {
        "id": "34E5-J9DpCi1"
      }
    },
    {
      "cell_type": "code",
      "source": [
        "# Generate random data\n",
        "random_data = np.array([[25, 1, 2, 0, 0.9]])\n",
        "\n",
        "# Scale the random data\n",
        "random_data = scaler.transform(random_data)\n"
      ],
      "metadata": {
        "colab": {
          "base_uri": "https://localhost:8080/"
        },
        "id": "WqGaD8DkpFUo",
        "outputId": "a67afe51-8206-4fe6-ebe6-52b06e600cf8"
      },
      "execution_count": null,
      "outputs": [
        {
          "output_type": "stream",
          "name": "stderr",
          "text": [
            "/usr/local/lib/python3.10/dist-packages/sklearn/base.py:439: UserWarning: X does not have valid feature names, but StandardScaler was fitted with feature names\n",
            "  warnings.warn(\n"
          ]
        }
      ]
    },
    {
      "cell_type": "code",
      "source": [
        "# Predict drug class for random data\n",
        "prediction = model.predict(random_data)\n",
        "predicted_class = 'Drug A' if prediction[0] < 0.5 else 'Drug B'\n",
        "\n",
        "# Print the predicted drug class\n",
        "print('Predicted Drug Class:', predicted_class)"
      ],
      "metadata": {
        "id": "JnCybuGjpMHh",
        "outputId": "8a2ce239-a171-488c-b1d6-87dd167bc220",
        "colab": {
          "base_uri": "https://localhost:8080/"
        }
      },
      "execution_count": null,
      "outputs": [
        {
          "output_type": "stream",
          "name": "stdout",
          "text": [
            "1/1 [==============================] - 0s 181ms/step\n",
            "Predicted Drug Class: Drug B\n"
          ]
        }
      ]
    }
  ]
}