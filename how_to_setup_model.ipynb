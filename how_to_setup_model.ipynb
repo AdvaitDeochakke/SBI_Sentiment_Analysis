{
 "cells": [
  {
   "cell_type": "code",
   "execution_count": null,
   "metadata": {},
   "outputs": [],
   "source": [
    "# steps to reproduce model into direct use\n",
    "import zipfile\n",
    "from tensorflow.keras.models import load_model\n",
    "\n",
    "zip_file_path = 'snetiment_analzyer.zip'\n",
    "h5_file_name = 'snetiment_analzyer.h5'\n",
    "\n",
    "# Open the zip file\n",
    "with zipfile.ZipFile(zip_file_path, 'r') as zip_ref:\n",
    "    # Extract the .h5 file\n",
    "    zip_ref.extract(h5_file_name)\n",
    "\n",
    "# Load the Keras model from the extracted .h5 file\n",
    "model = load_model(h5_file_name)\n",
    "\n",
    "# Now you can use the loaded model for inference or further processing\n",
    "# For example, you can make predictions using the model\n",
    "# predictions = model.predict(...)\n"
   ]
  },
  {
   "cell_type": "code",
   "execution_count": null,
   "metadata": {},
   "outputs": [],
   "source": [
    "from keras.preprocessing.text import Tokenizer\n",
    "from keras.utils import pad_sequences\n",
    "import pandas as pd\n",
    "\n",
    "# remind myself to serialize and add tknizer to github later\n",
    "# reminder 2 -> pelase do this later\n",
    "\n",
    "tknizer = Tokenizer()\n",
    "df = pd.read_csv('preprocessed_dataset.csv')\n",
    "df.dropna(inplace=True)\n",
    "tknizer.fit_on_texts(df.Clean)"
   ]
  },
  {
   "cell_type": "code",
   "execution_count": null,
   "metadata": {},
   "outputs": [],
   "source": [
    "# the only purpose of score_to_sentiment is to keep the other function relatively clean looking\n",
    "def score_to_sentiment(score, include_neutral=True):\n",
    "  if include_neutral:\n",
    "        label = 'Neutral'\n",
    "        if score <= 0.42:\n",
    "            label = 'Negative'\n",
    "        elif score >= 0.58:\n",
    "            label = 'Positive'\n",
    "        return label\n",
    "  else:\n",
    "      return 'Negative' if score < 0.5 else 'Positive'\n",
    "\n",
    "def predict(text, include_neutral=True):\n",
    "    # Tokenize text\n",
    "    x_test = pad_sequences(tknizer.texts_to_sequences([text]), maxlen=140)\n",
    "    # Predict\n",
    "    score = model.predict([x_test])[0]\n",
    "    # Decode sentiment\n",
    "    label = score_to_sentiment(score, include_neutral)\n",
    "\n",
    "    return {\"text\": text, \"label\": label, \"score\": float(score)}"
   ]
  },
  {
   "cell_type": "code",
   "execution_count": null,
   "metadata": {},
   "outputs": [],
   "source": [
    "predict(\"I hate my life xdd\")"
   ]
  }
 ],
 "metadata": {
  "language_info": {
   "name": "python"
  },
  "orig_nbformat": 4
 },
 "nbformat": 4,
 "nbformat_minor": 2
}
