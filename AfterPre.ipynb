{
 "cells": [
  {
   "cell_type": "code",
   "execution_count": 1,
   "metadata": {},
   "outputs": [],
   "source": [
    "import pandas as pd\n",
    "from sklearn.model_selection import train_test_split\n",
    "from sklearn.preprocessing import LabelEncoder"
   ]
  },
  {
   "cell_type": "code",
   "execution_count": 2,
   "metadata": {},
   "outputs": [
    {
     "data": {
      "text/html": [
       "<div>\n",
       "<style scoped>\n",
       "    .dataframe tbody tr th:only-of-type {\n",
       "        vertical-align: middle;\n",
       "    }\n",
       "\n",
       "    .dataframe tbody tr th {\n",
       "        vertical-align: top;\n",
       "    }\n",
       "\n",
       "    .dataframe thead th {\n",
       "        text-align: right;\n",
       "    }\n",
       "</style>\n",
       "<table border=\"1\" class=\"dataframe\">\n",
       "  <thead>\n",
       "    <tr style=\"text-align: right;\">\n",
       "      <th></th>\n",
       "      <th>target</th>\n",
       "      <th>Clean</th>\n",
       "    </tr>\n",
       "  </thead>\n",
       "  <tbody>\n",
       "    <tr>\n",
       "      <th>0</th>\n",
       "      <td>Negative</td>\n",
       "      <td>upset cant updat facebook text might cri resul...</td>\n",
       "    </tr>\n",
       "    <tr>\n",
       "      <th>1</th>\n",
       "      <td>Negative</td>\n",
       "      <td>kenichan dive mani time ball manag save 50 res...</td>\n",
       "    </tr>\n",
       "    <tr>\n",
       "      <th>2</th>\n",
       "      <td>Negative</td>\n",
       "      <td>whole bodi feel itchi like fire</td>\n",
       "    </tr>\n",
       "    <tr>\n",
       "      <th>3</th>\n",
       "      <td>Negative</td>\n",
       "      <td>nationwideclass behav im mad cant see</td>\n",
       "    </tr>\n",
       "    <tr>\n",
       "      <th>4</th>\n",
       "      <td>Negative</td>\n",
       "      <td>kwesidei whole crew</td>\n",
       "    </tr>\n",
       "  </tbody>\n",
       "</table>\n",
       "</div>"
      ],
      "text/plain": [
       "     target                                              Clean\n",
       "0  Negative  upset cant updat facebook text might cri resul...\n",
       "1  Negative  kenichan dive mani time ball manag save 50 res...\n",
       "2  Negative                    whole bodi feel itchi like fire\n",
       "3  Negative              nationwideclass behav im mad cant see\n",
       "4  Negative                                kwesidei whole crew"
      ]
     },
     "execution_count": 2,
     "metadata": {},
     "output_type": "execute_result"
    }
   ],
   "source": [
    "df = pd.read_csv(\"preprocessed_dataset.csv\")\n",
    "df.head()"
   ]
  },
  {
   "cell_type": "code",
   "execution_count": null,
   "metadata": {},
   "outputs": [
    {
     "data": {
      "text/plain": [
       "1    779148\n",
       "0    772213\n",
       "Name: target, dtype: int64"
      ]
     },
     "execution_count": 3,
     "metadata": {},
     "output_type": "execute_result"
    }
   ],
   "source": [
    "le = LabelEncoder()\n",
    "df['target'] = le.fit_transform(df['target'])\n",
    "df['target'].value_counts()"
   ]
  },
  {
   "attachments": {},
   "cell_type": "markdown",
   "metadata": {},
   "source": [
    "# Changeing text to tokens"
   ]
  },
  {
   "cell_type": "code",
   "execution_count": 4,
   "metadata": {},
   "outputs": [
    {
     "data": {
      "text/html": [
       "<div>\n",
       "<style scoped>\n",
       "    .dataframe tbody tr th:only-of-type {\n",
       "        vertical-align: middle;\n",
       "    }\n",
       "\n",
       "    .dataframe tbody tr th {\n",
       "        vertical-align: top;\n",
       "    }\n",
       "\n",
       "    .dataframe thead th {\n",
       "        text-align: right;\n",
       "    }\n",
       "</style>\n",
       "<table border=\"1\" class=\"dataframe\">\n",
       "  <thead>\n",
       "    <tr style=\"text-align: right;\">\n",
       "      <th></th>\n",
       "      <th>target</th>\n",
       "      <th>Clean</th>\n",
       "      <th>tokenized_text</th>\n",
       "    </tr>\n",
       "  </thead>\n",
       "  <tbody>\n",
       "    <tr>\n",
       "      <th>0</th>\n",
       "      <td>0</td>\n",
       "      <td>upset cant updat facebook text might cri resul...</td>\n",
       "      <td>[upset, cant, updat, facebook, text, might, cr...</td>\n",
       "    </tr>\n",
       "    <tr>\n",
       "      <th>1</th>\n",
       "      <td>0</td>\n",
       "      <td>kenichan dive mani time ball manag save 50 res...</td>\n",
       "      <td>[kenichan, dive, mani, time, ball, manag, save...</td>\n",
       "    </tr>\n",
       "    <tr>\n",
       "      <th>2</th>\n",
       "      <td>0</td>\n",
       "      <td>whole bodi feel itchi like fire</td>\n",
       "      <td>[whole, bodi, feel, itchi, like, fire]</td>\n",
       "    </tr>\n",
       "    <tr>\n",
       "      <th>3</th>\n",
       "      <td>0</td>\n",
       "      <td>nationwideclass behav im mad cant see</td>\n",
       "      <td>[nationwideclass, behav, im, mad, cant, see]</td>\n",
       "    </tr>\n",
       "    <tr>\n",
       "      <th>4</th>\n",
       "      <td>0</td>\n",
       "      <td>kwesidei whole crew</td>\n",
       "      <td>[kwesidei, whole, crew]</td>\n",
       "    </tr>\n",
       "  </tbody>\n",
       "</table>\n",
       "</div>"
      ],
      "text/plain": [
       "   target                                              Clean  \\\n",
       "0       0  upset cant updat facebook text might cri resul...   \n",
       "1       0  kenichan dive mani time ball manag save 50 res...   \n",
       "2       0                    whole bodi feel itchi like fire   \n",
       "3       0              nationwideclass behav im mad cant see   \n",
       "4       0                                kwesidei whole crew   \n",
       "\n",
       "                                      tokenized_text  \n",
       "0  [upset, cant, updat, facebook, text, might, cr...  \n",
       "1  [kenichan, dive, mani, time, ball, manag, save...  \n",
       "2             [whole, bodi, feel, itchi, like, fire]  \n",
       "3       [nationwideclass, behav, im, mad, cant, see]  \n",
       "4                            [kwesidei, whole, crew]  "
      ]
     },
     "execution_count": 4,
     "metadata": {},
     "output_type": "execute_result"
    }
   ],
   "source": [
    "from gensim.utils import simple_preprocess\n",
    "df['Clean'] = df['Clean'].astype(str)\n",
    "df['tokenized_text'] = [simple_preprocess(line, deacc=True) for line in df['Clean']]\n",
    "\n",
    "df.head()"
   ]
  },
  {
   "attachments": {},
   "cell_type": "markdown",
   "metadata": {},
   "source": [
    "# Changing tokenized text to Stemmed text"
   ]
  },
  {
   "cell_type": "code",
   "execution_count": 5,
   "metadata": {},
   "outputs": [
    {
     "data": {
      "text/html": [
       "<div>\n",
       "<style scoped>\n",
       "    .dataframe tbody tr th:only-of-type {\n",
       "        vertical-align: middle;\n",
       "    }\n",
       "\n",
       "    .dataframe tbody tr th {\n",
       "        vertical-align: top;\n",
       "    }\n",
       "\n",
       "    .dataframe thead th {\n",
       "        text-align: right;\n",
       "    }\n",
       "</style>\n",
       "<table border=\"1\" class=\"dataframe\">\n",
       "  <thead>\n",
       "    <tr style=\"text-align: right;\">\n",
       "      <th></th>\n",
       "      <th>target</th>\n",
       "      <th>Clean</th>\n",
       "      <th>tokenized_text</th>\n",
       "      <th>stemmed_tokens</th>\n",
       "    </tr>\n",
       "  </thead>\n",
       "  <tbody>\n",
       "    <tr>\n",
       "      <th>0</th>\n",
       "      <td>0</td>\n",
       "      <td>upset cant updat facebook text might cri resul...</td>\n",
       "      <td>[upset, cant, updat, facebook, text, might, cr...</td>\n",
       "      <td>[upset, cant, updat, facebook, text, might, cr...</td>\n",
       "    </tr>\n",
       "    <tr>\n",
       "      <th>1</th>\n",
       "      <td>0</td>\n",
       "      <td>kenichan dive mani time ball manag save 50 res...</td>\n",
       "      <td>[kenichan, dive, mani, time, ball, manag, save...</td>\n",
       "      <td>[kenichan, dive, mani, time, ball, manag, save...</td>\n",
       "    </tr>\n",
       "    <tr>\n",
       "      <th>2</th>\n",
       "      <td>0</td>\n",
       "      <td>whole bodi feel itchi like fire</td>\n",
       "      <td>[whole, bodi, feel, itchi, like, fire]</td>\n",
       "      <td>[whole, bodi, feel, itchi, like, fire]</td>\n",
       "    </tr>\n",
       "    <tr>\n",
       "      <th>3</th>\n",
       "      <td>0</td>\n",
       "      <td>nationwideclass behav im mad cant see</td>\n",
       "      <td>[nationwideclass, behav, im, mad, cant, see]</td>\n",
       "      <td>[nationwideclass, behav, im, mad, cant, see]</td>\n",
       "    </tr>\n",
       "    <tr>\n",
       "      <th>4</th>\n",
       "      <td>0</td>\n",
       "      <td>kwesidei whole crew</td>\n",
       "      <td>[kwesidei, whole, crew]</td>\n",
       "      <td>[kwesidei, whole, crew]</td>\n",
       "    </tr>\n",
       "    <tr>\n",
       "      <th>...</th>\n",
       "      <td>...</td>\n",
       "      <td>...</td>\n",
       "      <td>...</td>\n",
       "      <td>...</td>\n",
       "    </tr>\n",
       "    <tr>\n",
       "      <th>95</th>\n",
       "      <td>0</td>\n",
       "      <td>hey actual one bracket pool bad wasnt one money</td>\n",
       "      <td>[hey, actual, one, bracket, pool, bad, wasnt, ...</td>\n",
       "      <td>[hei, actual, on, bracket, pool, bad, wasnt, o...</td>\n",
       "    </tr>\n",
       "    <tr>\n",
       "      <th>96</th>\n",
       "      <td>0</td>\n",
       "      <td>stark dont follow either work</td>\n",
       "      <td>[stark, dont, follow, either, work]</td>\n",
       "      <td>[stark, dont, follow, either, work]</td>\n",
       "    </tr>\n",
       "    <tr>\n",
       "      <th>97</th>\n",
       "      <td>0</td>\n",
       "      <td>bad nite favorit team astro spartan lose nite ...</td>\n",
       "      <td>[bad, nite, favorit, team, astro, spartan, los...</td>\n",
       "      <td>[bad, nite, favorit, team, astro, spartan, los...</td>\n",
       "    </tr>\n",
       "    <tr>\n",
       "      <th>98</th>\n",
       "      <td>0</td>\n",
       "      <td>bodi miss northern calif girl found polic foun...</td>\n",
       "      <td>[bodi, miss, northern, calif, girl, found, pol...</td>\n",
       "      <td>[bodi, miss, northern, calif, girl, found, pol...</td>\n",
       "    </tr>\n",
       "    <tr>\n",
       "      <th>99</th>\n",
       "      <td>0</td>\n",
       "      <td>mangaaa hope increas capac fast yesterday pain...</td>\n",
       "      <td>[mangaaa, hope, increas, capac, fast, yesterda...</td>\n",
       "      <td>[mangaaa, hope, increa, capac, fast, yesterdai...</td>\n",
       "    </tr>\n",
       "  </tbody>\n",
       "</table>\n",
       "<p>100 rows × 4 columns</p>\n",
       "</div>"
      ],
      "text/plain": [
       "    target                                              Clean  \\\n",
       "0        0  upset cant updat facebook text might cri resul...   \n",
       "1        0  kenichan dive mani time ball manag save 50 res...   \n",
       "2        0                    whole bodi feel itchi like fire   \n",
       "3        0              nationwideclass behav im mad cant see   \n",
       "4        0                                kwesidei whole crew   \n",
       "..     ...                                                ...   \n",
       "95       0    hey actual one bracket pool bad wasnt one money   \n",
       "96       0                      stark dont follow either work   \n",
       "97       0  bad nite favorit team astro spartan lose nite ...   \n",
       "98       0  bodi miss northern calif girl found polic foun...   \n",
       "99       0  mangaaa hope increas capac fast yesterday pain...   \n",
       "\n",
       "                                       tokenized_text  \\\n",
       "0   [upset, cant, updat, facebook, text, might, cr...   \n",
       "1   [kenichan, dive, mani, time, ball, manag, save...   \n",
       "2              [whole, bodi, feel, itchi, like, fire]   \n",
       "3        [nationwideclass, behav, im, mad, cant, see]   \n",
       "4                             [kwesidei, whole, crew]   \n",
       "..                                                ...   \n",
       "95  [hey, actual, one, bracket, pool, bad, wasnt, ...   \n",
       "96                [stark, dont, follow, either, work]   \n",
       "97  [bad, nite, favorit, team, astro, spartan, los...   \n",
       "98  [bodi, miss, northern, calif, girl, found, pol...   \n",
       "99  [mangaaa, hope, increas, capac, fast, yesterda...   \n",
       "\n",
       "                                       stemmed_tokens  \n",
       "0   [upset, cant, updat, facebook, text, might, cr...  \n",
       "1   [kenichan, dive, mani, time, ball, manag, save...  \n",
       "2              [whole, bodi, feel, itchi, like, fire]  \n",
       "3        [nationwideclass, behav, im, mad, cant, see]  \n",
       "4                             [kwesidei, whole, crew]  \n",
       "..                                                ...  \n",
       "95  [hei, actual, on, bracket, pool, bad, wasnt, o...  \n",
       "96                [stark, dont, follow, either, work]  \n",
       "97  [bad, nite, favorit, team, astro, spartan, los...  \n",
       "98  [bodi, miss, northern, calif, girl, found, pol...  \n",
       "99  [mangaaa, hope, increa, capac, fast, yesterdai...  \n",
       "\n",
       "[100 rows x 4 columns]"
      ]
     },
     "execution_count": 5,
     "metadata": {},
     "output_type": "execute_result"
    }
   ],
   "source": [
    "from gensim.parsing.porter import PorterStemmer\n",
    "porter_stemmer = PorterStemmer()\n",
    "df['stemmed_tokens'] = [[porter_stemmer.stem(word) for word in tokens] for tokens in df['tokenized_text']]\n",
    "df.head(100)"
   ]
  },
  {
   "cell_type": "code",
   "execution_count": 6,
   "metadata": {},
   "outputs": [],
   "source": [
    "X = df['stemmed_tokens']\n",
    "y = df['target']\n",
    "\n",
    "X_train, X_test, y_train, y_test = train_test_split(X, y, test_size=0.3, random_state=0,shuffle=True)"
   ]
  },
  {
   "cell_type": "code",
   "execution_count": 7,
   "metadata": {},
   "outputs": [
    {
     "data": {
      "text/plain": [
       "897613     1\n",
       "1046715    1\n",
       "1364171    1\n",
       "705178     0\n",
       "910605     1\n",
       "Name: target, dtype: int64"
      ]
     },
     "execution_count": 7,
     "metadata": {},
     "output_type": "execute_result"
    }
   ],
   "source": [
    "X_train.shape, X_test.shape, y_train.shape, y_test.shape\n",
    "X_train.head()\n",
    "y_train.head()"
   ]
  },
  {
   "cell_type": "code",
   "execution_count": null,
   "metadata": {},
   "outputs": [],
   "source": []
  }
 ],
 "metadata": {
  "kernelspec": {
   "display_name": "Python 3",
   "language": "python",
   "name": "python3"
  },
  "language_info": {
   "codemirror_mode": {
    "name": "ipython",
    "version": 3
   },
   "file_extension": ".py",
   "mimetype": "text/x-python",
   "name": "python",
   "nbconvert_exporter": "python",
   "pygments_lexer": "ipython3",
   "version": "3.10.8"
  },
  "orig_nbformat": 4
 },
 "nbformat": 4,
 "nbformat_minor": 2
}
